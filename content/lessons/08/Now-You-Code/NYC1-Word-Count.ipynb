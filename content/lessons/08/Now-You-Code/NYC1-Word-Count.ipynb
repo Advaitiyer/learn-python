{
 "cells": [
  {
   "cell_type": "markdown",
   "metadata": {},
   "source": [
    "# Now You Code 1: Word Count\n",
    "\n",
    "Let's write a program which takes a file name as input, counts the number of words in the file, then outputs the word count.\n",
    "\n",
    "The program should handle `FileNotFoundError` as an exception in case you enter a file that does not exist.\n",
    "\n",
    "Sample Run #1:\n",
    "\n",
    "```\n",
    "Word Count!\n",
    "Enter Filename: NYC1-romeo.txt\n",
    "There are 33 words in NYC1-romeo.txt\n",
    "```\n",
    "\n",
    "Sample Run #2:\n",
    "\n",
    "```\n",
    "Word Count!\n",
    "Enter Filename: testing\n",
    "File Not Found: testing\n",
    "```\n",
    "Try these files:\n",
    "\n",
    "- `NYC1-NYC1-cant-stop-the-feeling.txt`\n",
    "- `NYC1-preamble.txt`\n",
    "- `NYC1-romeo.txt` or \n",
    "- `NYC-zork.txt`\n",
    "\n",
    "\n",
    "**HINT**: Read in the file a line at a time, then split the line into words and count each word. \n",
    "\n",
    "Start out the program by writing your initial todo list (without the try...except)"
   ]
  },
  {
   "cell_type": "code",
   "execution_count": 1,
   "metadata": {
    "collapsed": true
   },
   "outputs": [],
   "source": [
    "## TODO List Here\n",
    "  \n"
   ]
  },
  {
   "cell_type": "code",
   "execution_count": 10,
   "metadata": {
    "collapsed": false
   },
   "outputs": [],
   "source": [
    "## Write Code Here\n",
    "\n"
   ]
  },
  {
   "cell_type": "code",
   "execution_count": null,
   "metadata": {
    "collapsed": true
   },
   "outputs": [],
   "source": []
  }
 ],
 "metadata": {
  "kernelspec": {
   "display_name": "Python [default]",
   "language": "python",
   "name": "python3"
  },
  "language_info": {
   "codemirror_mode": {
    "name": "ipython",
    "version": 3
   },
   "file_extension": ".py",
   "mimetype": "text/x-python",
   "name": "python",
   "nbconvert_exporter": "python",
   "pygments_lexer": "ipython3",
   "version": "3.5.2"
  }
 },
 "nbformat": 4,
 "nbformat_minor": 0
}
