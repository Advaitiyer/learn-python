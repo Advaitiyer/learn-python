{
 "cells": [
  {
   "cell_type": "markdown",
   "metadata": {},
   "source": [
    "# Now You Code 2: Course Grade\n",
    "\n",
    "In a previous homework you wrote a program to calculate the final grade letter grade in IST256 when given the total points out of 600.\n",
    "\n",
    "The code appears below."
   ]
  },
  {
   "cell_type": "code",
   "execution_count": null,
   "metadata": {
    "collapsed": true
   },
   "outputs": [],
   "source": [
    "print(\"IST256 Grade Calculator\")\n",
    "try:\n",
    "    points = int(input(\"Enter total points out of 600:\"))\n",
    "    if points >= 570:\n",
    "        grade = \"A\"\n",
    "    elif points >= 540:\n",
    "        grade = \"A-\"\n",
    "    elif points >= 510:\n",
    "        grade = \"B+\"\n",
    "    elif points >= 480:\n",
    "        grade = \"B\"\n",
    "    elif points >= 450:\n",
    "        grade = \"B-\"\n",
    "    elif points >= 420:\n",
    "        grade = \"C+\"\n",
    "    elif points >= 390:\n",
    "        grade = \"C\"\n",
    "    elif points >= 360:\n",
    "        grade = \"C-\"\n",
    "    elif points >= 300:\n",
    "        grade = \"D\"\n",
    "    else:\n",
    "        grade = \"F\"\n",
    "\n",
    "    print(\"Grade:\", grade) \n",
    "except:\n",
    "    print(\"Bad point input\")"
   ]
  },
  {
   "cell_type": "markdown",
   "metadata": {},
   "source": [
    "## Write a function GetGrade\n",
    "\n",
    "First re-factor this program into a function called `GetGrade()`. The function should take a number of points as input and output the appropriate letter grade based on those points.\n",
    "\n"
   ]
  },
  {
   "cell_type": "code",
   "execution_count": 2,
   "metadata": {
    "collapsed": false
   },
   "outputs": [],
   "source": [
    "## Function: GetGrade\n",
    "## Arguments: points (eg. 540)\n",
    "## Returns: grade (A, B+ etc...)\n",
    "\n",
    "#TODO: Write function definition here\n",
    "\n",
    "    "
   ]
  },
  {
   "cell_type": "markdown",
   "metadata": {},
   "source": [
    "## Write this program using your new function\n",
    "\n",
    "Write a program to loop until the user enters quit. Each time in the loop it should prompt for the total number of point and then output the letter grade, similar to the sample run:\n",
    "\n",
    "Sample Run:\n",
    "```\n",
    "IST256 Grade Calculator\n",
    "Enter points or type 'quit': 540\n",
    "540 points is a grade of A-\n",
    "Enter points or type 'quit': 385\n",
    "385 points is a grade of C-\n",
    "Enter points or type 'quit': 690\n",
    "690 points is a grade of A\n",
    "Enter points or type 'quit': quit\n",
    "```\n",
    "\n",
    "\n",
    "Start by writing your TODO list first, of course!"
   ]
  },
  {
   "cell_type": "code",
   "execution_count": null,
   "metadata": {
    "collapsed": true
   },
   "outputs": [],
   "source": [
    "## TODO list here:\n"
   ]
  },
  {
   "cell_type": "code",
   "execution_count": 4,
   "metadata": {
    "collapsed": false
   },
   "outputs": [],
   "source": [
    "## Write code here:\n"
   ]
  }
 ],
 "metadata": {
  "anaconda-cloud": {},
  "kernelspec": {
   "display_name": "Python [default]",
   "language": "python",
   "name": "python3"
  },
  "language_info": {
   "codemirror_mode": {
    "name": "ipython",
    "version": 3
   },
   "file_extension": ".py",
   "mimetype": "text/x-python",
   "name": "python",
   "nbconvert_exporter": "python",
   "pygments_lexer": "ipython3",
   "version": "3.5.2"
  }
 },
 "nbformat": 4,
 "nbformat_minor": 0
}
