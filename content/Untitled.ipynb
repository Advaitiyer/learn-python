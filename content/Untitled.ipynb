{
 "cells": [
  {
   "cell_type": "code",
   "execution_count": 3,
   "metadata": {},
   "outputs": [
    {
     "data": {
      "text/plain": [
       "\"BEGIN:VCALENDAR\\nX-WR-CALNAME:Fudge - Diamondbacks\\nVERSION:2.0\\nMETHOD:PUBLISH\\nBEGIN:VEVENT\\nDTSTART:20180406T233000Z\\nDTEND:20180407T010000Z\\nLOCATION:Gillette Road > Gym 52 (Large)\\nUID:20180420T16491081298602\\nDTSTAMP:20180420T204910\\nSUMMARY:Fudge - Diamondbacks Practice\\nDESCRIPTION:Practice indoors Gillette Rd Gym Batting, Fielding, Game situations\\nPRIORITY:5\\nCLASS:PUBLIC\\nEND:VEVENT\\nBEGIN:VEVENT\\nDTSTART:20180413T233000Z\\nDTEND:20180414T010000Z\\nLOCATION:Gillette Road > Gym 52 (Large)\\nUID:20180420T16491081298603\\nDTSTAMP:20180420T204910\\nSUMMARY:Fudge - Diamondbacks Practice\\nDESCRIPTION:Practice will consist of batting , fielding, game situations and a split squad scrimmage\\nPRIORITY:5\\nCLASS:PUBLIC\\nEND:VEVENT\\nBEGIN:VEVENT\\nDTSTART:20180420T233000Z\\nDTEND:20180421T010000Z\\nLOCATION:Gillette Road > Gym 52 (Large)\\nUID:20180420T16491081298604\\nDTSTAMP:20180420T204910\\nSUMMARY:Fudge - Diamondbacks Practice\\nDESCRIPTION:Practice will be batting, fielding and game situations.\\nPRIORITY:5\\nCLASS:PUBLIC\\nEND:VEVENT\\nBEGIN:VEVENT\\nDTSTART:20180403T220000Z\\nDTEND:20180404T000000Z\\nLOCATION:TBD > TBD\\nUID:20180420T16491081359908\\nDTSTAMP:20180420T204910\\nSUMMARY:Fudge - Diamondbacks Practice\\nDESCRIPTION:We have scheduled a large field at CNY Family Sports center for a two hour scrimmage against another Cicero team.  You must sign a release to practice here.  Visit  http://www.cnyfsc.com for details and directions to the facility.\\nPRIORITY:5\\nCLASS:PUBLIC\\nEND:VEVENT\\nBEGIN:VEVENT\\nDTSTART:20180417T210000Z\\nDTEND:20180417T220000Z\\nLOCATION:Perfect Practice > Cages\\nUID:20180420T16491081437796\\nDTSTAMP:20180420T204910\\nSUMMARY:Fudge - Diamondbacks Practice\\nDESCRIPTION:Batting, pitching, catching. We will work on hitting situations.\\nPRIORITY:5\\nCLASS:PUBLIC\\nEND:VEVENT\\nBEGIN:VEVENT\\nDTSTART:20180411T000000Z\\nDTEND:20180411T010000Z\\nLOCATION:Perfect Practice > Cages\\nUID:20180420T16491081406875\\nDTSTAMP:20180420T204910\\nSUMMARY:Fudge - Diamondbacks Practice\\nDESCRIPTION:Hi Everyone - I've rented out 2 Cages at Perfect Practice for Tuesday 8-9PM. We will work on Hitting in one cage and Pitching / Catching in the other. See you there.\\nPRIORITY:5\\nCLASS:PUBLIC\\nEND:VEVENT\\nBEGIN:VEVENT\\nDTSTART:20180505T130000Z\\nDTEND:20180505T151500Z\\nLOCATION:Central Park > Field 7\\nUID:20180420T16491081407251\\nDTSTAMP:20180420T204910\\nSUMMARY:Sellin - Pirates @ Fudge - Diamondbacks[ROUND : 3]Match : 8\\nDESCRIPTION:Central Park -> Field 7\\nPRIORITY:5\\nCLASS:PUBLIC\\nEND:VEVENT\\nBEGIN:VEVENT\\nDTSTART:20180605T220000Z\\nDTEND:20180606T001500Z\\nLOCATION:Central Park > Field 5\\nUID:20180420T16491081407286\\nDTSTAMP:20180420T204910\\nSUMMARY:Lukasiewicz - Dodgers @ Fudge - Diamondbacks[ROUND : 15]Match : 43\\nDESCRIPTION:Central Park -> Field 5\\nPRIORITY:5\\nCLASS:PUBLIC\\nEND:VEVENT\\nBEGIN:VEVENT\\nDTSTART:20180607T220000Z\\nDTEND:20180608T001500Z\\nLOCATION:Central Park > Sabine Field\\nUID:20180420T16491081407291\\nDTSTAMP:20180420T204910\\nSUMMARY:Jordan - Cardinals @ Fudge - Diamondbacks[ROUND : 16]Match : 48\\nDESCRIPTION:Central Park -> Sabine Field\\nPRIORITY:5\\nCLASS:PUBLIC\\nEND:VEVENT\\nBEGIN:VEVENT\\nDTSTART:20180531T220000Z\\nDTEND:20180601T001500Z\\nLOCATION:Central Park > Sabine Field\\nUID:20180420T16491081407282\\nDTSTAMP:20180420T204910\\nSUMMARY:Purdy - Mets @ Fudge - Diamondbacks[ROUND : 13]Match : 39\\nDESCRIPTION:Central Park -> Sabine Field\\nPRIORITY:5\\nCLASS:PUBLIC\\nEND:VEVENT\\nBEGIN:VEVENT\\nDTSTART:20180501T220000Z\\nDTEND:20180502T001500Z\\nLOCATION:Central Park > Field 5\\nUID:20180420T16491081407244\\nDTSTAMP:20180420T204910\\nSUMMARY:Cochran - Indians @ Fudge - Diamondbacks[ROUND : 1]Match : 1\\nDESCRIPTION:Central Park -> Field 5\\nPRIORITY:5\\nCLASS:PUBLIC\\nEND:VEVENT\\nBEGIN:VEVENT\\nDTSTART:20180515T220000Z\\nDTEND:20180516T001500Z\\nLOCATION:Central Park > Field 5\\nUID:20180420T16491081407262\\nDTSTAMP:20180420T204910\\nSUMMARY:NS - Wood - Yankees @ Fudge - Diamondbacks[ROUND : 7]Match : 19\\nDESCRIPTION:Central Park -> Field 5\\nPRIORITY:5\\nCLASS:PUBLIC\\nEND:VEVENT\\nBEGIN:VEVENT\\nDTSTART:20180517T220000Z\\nDTEND:20180518T001500Z\\nLOCATION:Central Park > Field 5\\nUID:20180420T16491081407265\\nDTSTAMP:20180420T204910\\nSUMMARY:NS - Wieczorek - Jays @ Fudge - Diamondbacks[ROUND : 8]Match : 22\\nDESCRIPTION:Central Park -> Field 5\\nPRIORITY:5\\nCLASS:PUBLIC\\nEND:VEVENT\\nBEGIN:VEVENT\\nDTSTART:20180508T220000Z\\nDTEND:20180509T001500Z\\nLOCATION:Central Park > Sabine Field\\nUID:20180420T16491081407255\\nDTSTAMP:20180420T204910\\nSUMMARY:Fudge - Diamondbacks @ Lukasiewicz - Dodgers[ROUND : 4]Match : 12\\nDESCRIPTION:Central Park -> Sabine Field\\nPRIORITY:5\\nCLASS:PUBLIC\\nEND:VEVENT\\nBEGIN:VEVENT\\nDTSTART:20180602T220000Z\\nDTEND:20180603T001500Z\\nLOCATION:Central Park > Sabine Field\\nUID:20180420T16491081407285\\nDTSTAMP:20180420T204910\\nSUMMARY:Fudge - Diamondbacks @ Sellin - Pirates[ROUND : 14]Match : 42\\nDESCRIPTION:Central Park -> Sabine Field\\nPRIORITY:5\\nCLASS:PUBLIC\\nEND:VEVENT\\nBEGIN:VEVENT\\nDTSTART:20180503T220000Z\\nDTEND:20180504T001500Z\\nLOCATION:Central Park > Field 7\\nUID:20180420T16491081407248\\nDTSTAMP:20180420T204910\\nSUMMARY:Fudge - Diamondbacks @ Purdy - Mets[ROUND : 2]Match : 5\\nDESCRIPTION:Central Park -> Field 7\\nPRIORITY:5\\nCLASS:PUBLIC\\nEND:VEVENT\\nBEGIN:VEVENT\\nDTSTART:20180510T220000Z\\nDTEND:20180511T001500Z\\nLOCATION:Central Park > Field 5\\nUID:20180420T16491081407256\\nDTSTAMP:20180420T204910\\nSUMMARY:Fudge - Diamondbacks @ Jordan - Cardinals[ROUND : 5]Match : 13\\nDESCRIPTION:Central Park -> Field 5\\nPRIORITY:5\\nCLASS:PUBLIC\\nEND:VEVENT\\nBEGIN:VEVENT\\nDTSTART:20180529T220000Z\\nDTEND:20180530T001500Z\\nLOCATION:Central Park > Field 7\\nUID:20180420T16491081407278\\nDTSTAMP:20180420T204910\\nSUMMARY:Fudge - Diamondbacks @ Cochran - Indians[ROUND : 12]Match : 35\\nDESCRIPTION:Central Park -> Field 7\\nPRIORITY:5\\nCLASS:PUBLIC\\nEND:VEVENT\\nBEGIN:VEVENT\\nDTSTART:20180522T223000Z\\nDTEND:20180523T004500Z\\nLOCATION:Lonergan Park > Lonergan Field\\nUID:20180420T16491081407273\\nDTSTAMP:20180420T204910\\nSUMMARY:Fudge - Diamondbacks @ NS - Walker - Cubs[ROUND : 10]Match : 30\\nDESCRIPTION:Lonergan Park -> Lonergan Field\\nPRIORITY:5\\nCLASS:PUBLIC\\nEND:VEVENT\\nEND:VCALENDAR\""
      ]
     },
     "execution_count": 3,
     "metadata": {},
     "output_type": "execute_result"
    }
   ],
   "source": [
    "import requests\n",
    "\n",
    "response = requests.get('http://www.cicerolittleleague.com/DesktopModules/sSchedule/sSchedule.Web/Services/ExportToICalendar.ashx?portalId=10916&id=41383672&key=P4DM2QV7&teamId=80244157&format=ical')\n",
    "\n",
    "response.text"
   ]
  },
  {
   "cell_type": "code",
   "execution_count": null,
   "metadata": {},
   "outputs": [],
   "source": []
  }
 ],
 "metadata": {
  "kernelspec": {
   "display_name": "Python 3",
   "language": "python",
   "name": "python3"
  },
  "language_info": {
   "codemirror_mode": {
    "name": "ipython",
    "version": 3
   },
   "file_extension": ".py",
   "mimetype": "text/x-python",
   "name": "python",
   "nbconvert_exporter": "python",
   "pygments_lexer": "ipython3",
   "version": "3.6.4"
  }
 },
 "nbformat": 4,
 "nbformat_minor": 2
}
